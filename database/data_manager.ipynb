{
 "cells": [
  {
   "cell_type": "code",
   "execution_count": 1,
   "metadata": {},
   "outputs": [],
   "source": [
    "import sys\n",
    "sys.path.append( '../utilities' )\n",
    "from data_engine import DataEngine\n",
    "import pandas as pd\n",
    "import ccxt\n",
    "import json\n",
    "f = open('./pair_list.json',)\n",
    "pair_json = json.load(f)\n",
    "f.close()"
   ]
  },
  {
   "cell_type": "markdown",
   "metadata": {},
   "source": [
    "<h1>Inspect data from api or database</h1>"
   ]
  },
  {
   "cell_type": "code",
   "execution_count": null,
   "metadata": {},
   "outputs": [],
   "source": [
    "# -- Data variable --\n",
    "pair_symbol = 'BTC/USDT'\n",
    "timeframe = '1w'\n",
    "start_date = '2017-01-01T00:00:00'\n",
    "\n",
    "# -- Instance class --\n",
    "dataEngine = DataEngine(session=ccxt.binance())\n",
    "\n",
    "# -- Check from exchange API --\n",
    "# df =dataEngine.get_historical_from_api(pair_symbol, timeframe, start_date)\n",
    "\n",
    "# -- Check from local database --\n",
    "df =dataEngine.get_historical_from_db(pair_symbol, timeframe, start_date)\n",
    "\n",
    "df"
   ]
  },
  {
   "cell_type": "markdown",
   "metadata": {},
   "source": [
    "<h1>Download data from api to local database</h1>"
   ]
  },
  {
   "cell_type": "code",
   "execution_count": 2,
   "metadata": {},
   "outputs": [
    {
     "name": "stdout",
     "output_type": "stream",
     "text": [
      "-> downloding symbol BTC/USD for timeframe 1h\n",
      "BTC/USD 22345 Candles 1h load since the : 2019-07-21 13:00:00 to : 2022-02-06 15:00:00 in ../database/FTX/1h/BTCUSD.p\n",
      "-> downloding symbol ETH/USD for timeframe 1h\n",
      "ETH/USD 21019 Candles 1h load since the : 2019-09-14 21:00:00 to : 2022-02-06 15:00:00 in ../database/FTX/1h/ETHUSD.p\n",
      "-> downloding symbol BNB/USD for timeframe 1h\n",
      "BNB/USD 19225 Candles 1h load since the : 2019-11-28 15:00:00 to : 2022-02-06 15:00:00 in ../database/FTX/1h/BNBUSD.p\n",
      "-> downloding symbol LTC/USD for timeframe 1h\n",
      "LTC/USD 16768 Candles 1h load since the : 2020-03-10 00:00:00 to : 2022-02-06 15:00:00 in ../database/FTX/1h/LTCUSD.p\n",
      "-> downloding symbol DOGE/USD for timeframe 1h\n",
      "DOGE/USD 9348 Candles 1h load since the : 2021-01-13 04:00:00 to : 2022-02-06 15:00:00 in ../database/FTX/1h/DOGEUSD.p\n",
      "-> downloding symbol XRP/USD for timeframe 1h\n",
      "XRP/USD 13611 Candles 1h load since the : 2020-07-19 13:00:00 to : 2022-02-06 15:00:00 in ../database/FTX/1h/XRPUSD.p\n",
      "-> downloding symbol SOL/USD for timeframe 1h\n",
      "SOL/USD 13432 Candles 1h load since the : 2020-07-27 00:00:00 to : 2022-02-06 15:00:00 in ../database/FTX/1h/SOLUSD.p\n",
      "-> downloding symbol SHIB/USD for timeframe 1h\n",
      "SHIB/USD 6531 Candles 1h load since the : 2021-05-10 13:00:00 to : 2022-02-06 15:00:00 in ../database/FTX/1h/SHIBUSD.p\n",
      "-> downloding symbol LINK/USD for timeframe 1h\n",
      "LINK/USD 15758 Candles 1h load since the : 2020-04-21 02:00:00 to : 2022-02-06 15:00:00 in ../database/FTX/1h/LINKUSD.p\n",
      "-> downloding symbol UNI/USD for timeframe 1h\n",
      "UNI/USD 12181 Candles 1h load since the : 2020-09-17 03:00:00 to : 2022-02-06 15:00:00 in ../database/FTX/1h/UNIUSD.p\n",
      "-> downloding symbol MATIC/USD for timeframe 1h\n",
      "MATIC/USD 10898 Candles 1h load since the : 2020-11-09 14:00:00 to : 2022-02-06 15:00:00 in ../database/FTX/1h/MATICUSD.p\n",
      "-> downloding symbol AXS/USD for timeframe 1h\n",
      "AXS/USD 7350 Candles 1h load since the : 2021-04-06 10:00:00 to : 2022-02-06 15:00:00 in ../database/FTX/1h/AXSUSD.p\n",
      "-> downloding symbol CRO/USD for timeframe 1h\n",
      "CRO/USD 7662 Candles 1h load since the : 2021-03-24 10:00:00 to : 2022-02-06 15:00:00 in ../database/FTX/1h/CROUSD.p\n",
      "-> downloding symbol FTT/USD for timeframe 1h\n",
      "FTT/USD 22154 Candles 1h load since the : 2019-07-29 14:00:00 to : 2022-02-06 15:00:00 in ../database/FTX/1h/FTTUSD.p\n",
      "-> downloding symbol TRX/USD for timeframe 1h\n",
      "TRX/USD 15605 Candles 1h load since the : 2020-04-27 11:00:00 to : 2022-02-06 15:00:00 in ../database/FTX/1h/TRXUSD.p\n",
      "-> downloding symbol BCH/USD for timeframe 1h\n",
      "BCH/USD 16768 Candles 1h load since the : 2020-03-10 00:00:00 to : 2022-02-06 15:00:00 in ../database/FTX/1h/BCHUSD.p\n",
      "-> downloding symbol FTM/USD for timeframe 1h\n",
      "FTM/USD 8364 Candles 1h load since the : 2021-02-23 04:00:00 to : 2022-02-06 15:00:00 in ../database/FTX/1h/FTMUSD.p\n",
      "-> downloding symbol GRT/USD for timeframe 1h\n",
      "GRT/USD 9948 Candles 1h load since the : 2020-12-19 04:00:00 to : 2022-02-06 15:00:00 in ../database/FTX/1h/GRTUSD.p\n",
      "-> downloding symbol AAVE/USD for timeframe 1h\n",
      "AAVE/USD 11582 Candles 1h load since the : 2020-10-12 02:00:00 to : 2022-02-06 15:00:00 in ../database/FTX/1h/AAVEUSD.p\n",
      "-> downloding symbol OMG/USD for timeframe 1h\n",
      "OMG/USD 10898 Candles 1h load since the : 2020-11-09 14:00:00 to : 2022-02-06 15:00:00 in ../database/FTX/1h/OMGUSD.p\n",
      "-> downloding symbol LRC/USD for timeframe 1h\n",
      "LRC/USD 7975 Candles 1h load since the : 2021-03-11 09:00:00 to : 2022-02-06 15:00:00 in ../database/FTX/1h/LRCUSD.p\n",
      "-> downloding symbol SUSHI/USD for timeframe 1h\n",
      "SUSHI/USD 12571 Candles 1h load since the : 2020-08-31 21:00:00 to : 2022-02-06 15:00:00 in ../database/FTX/1h/SUSHIUSD.p\n",
      "-> downloding symbol MANA/USD for timeframe 1h\n",
      "MANA/USD 3510 Candles 1h load since the : 2021-09-13 10:00:00 to : 2022-02-06 15:00:00 in ../database/FTX/1h/MANAUSD.p\n",
      "-> downloding symbol SRM/USD for timeframe 1h\n",
      "SRM/USD 13059 Candles 1h load since the : 2020-08-11 13:00:00 to : 2022-02-06 15:00:00 in ../database/FTX/1h/SRMUSD.p\n",
      "-> downloding symbol RUNE/USD for timeframe 1h\n",
      "RUNE/USD 13593 Candles 1h load since the : 2020-07-20 07:00:00 to : 2022-02-06 15:00:00 in ../database/FTX/1h/RUNEUSD.p\n",
      "-> downloding symbol SAND/USD for timeframe 1h\n",
      "SAND/USD 7684 Candles 1h load since the : 2021-03-23 12:00:00 to : 2022-02-06 15:00:00 in ../database/FTX/1h/SANDUSD.p\n",
      "-> downloding symbol CHZ/USD for timeframe 1h\n",
      "CHZ/USD 11389 Candles 1h load since the : 2020-10-20 03:00:00 to : 2022-02-06 15:00:00 in ../database/FTX/1h/CHZUSD.p\n",
      "-> downloding symbol CRV/USD for timeframe 1h\n",
      "CRV/USD 9466 Candles 1h load since the : 2021-01-08 06:00:00 to : 2022-02-06 15:00:00 in ../database/FTX/1h/CRVUSD.p\n",
      "-> downloding symbol RAY/USD for timeframe 1h\n",
      "RAY/USD 8401 Candles 1h load since the : 2021-02-21 15:00:00 to : 2022-02-06 15:00:00 in ../database/FTX/1h/RAYUSD.p\n"
     ]
    }
   ],
   "source": [
    "# -- Data variable --\n",
    "pair_symbols = pair_json['ftxClassicPair']\n",
    "# timeframes = ['15m','1h','4h']\n",
    "timeframes = ['1h']\n",
    "start_date = '2017-01-01T00:00:00'\n",
    "\n",
    "# -- Instance class --\n",
    "dataEngine = DataEngine(session=ccxt.ftx())\n",
    "\n",
    "# -- Download data from data variable --\n",
    "dataEngine.download_data(pair_symbols, timeframes, start_date)\n"
   ]
  },
  {
   "cell_type": "markdown",
   "metadata": {},
   "source": [
    "<h1>Update data from local database with new data from api</h1>"
   ]
  },
  {
   "cell_type": "code",
   "execution_count": null,
   "metadata": {},
   "outputs": [],
   "source": [
    "# -- Data variable --\n",
    "pair_symbols = pair_json['ftxClassicPair']\n",
    "timeframes = ['1h']\n",
    "\n",
    "# -- Instance class --\n",
    "dataEngine = DataEngine(session=ccxt.ftx())\n",
    "\n",
    "# -- Download data from data variable --\n",
    "dataEngine.update_data(pair_symbols, timeframes)"
   ]
  }
 ],
 "metadata": {
  "interpreter": {
   "hash": "b99de858d01b8bcc47614726909171e040cc7bf90a13719c5d6ce860f919fb18"
  },
  "kernelspec": {
   "display_name": "Python 3.9.0 64-bit ('.venv': venv)",
   "language": "python",
   "name": "python3"
  },
  "language_info": {
   "codemirror_mode": {
    "name": "ipython",
    "version": 3
   },
   "file_extension": ".py",
   "mimetype": "text/x-python",
   "name": "python",
   "nbconvert_exporter": "python",
   "pygments_lexer": "ipython3",
   "version": "3.8.12"
  },
  "orig_nbformat": 4
 },
 "nbformat": 4,
 "nbformat_minor": 2
}
